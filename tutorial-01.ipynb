{
 "cells": [
  {
   "cell_type": "code",
   "execution_count": 1,
   "metadata": {},
   "outputs": [],
   "source": [
    "import numpy as np\n",
    "\n",
    "from matplotlib import pyplot as plt\n",
    "\n",
    "%matplotlib inline"
   ]
  },
  {
   "cell_type": "markdown",
   "metadata": {},
   "source": [
    "# Q1"
   ]
  },
  {
   "cell_type": "code",
   "execution_count": 163,
   "metadata": {},
   "outputs": [
    {
     "name": "stdout",
     "output_type": "stream",
     "text": [
      "True weight is: [0.48720303 0.42264404], true bias is: 0.04917271437715487\n",
      "Alice weight is [0.51643138 0.41250637], Alice bias is 0.0498664349838092\n",
      "Bob transformed weight is [0.51643138 0.41250637], Bob bias is 0.049866434983810964\n"
     ]
    }
   ],
   "source": [
    "# generate data (X, y)\n",
    "N = 50 # number of data points\n",
    "D = 2 # number of dimensions\n",
    "X = 0.5 * np.random.randn(N, D) # input data\n",
    "true_w = np.random.rand(D)\n",
    "true_b = np.random.rand()\n",
    "noise = 0.1 * np.random.randn(N)\n",
    "y = X @ true_w + true_b + noise # true function is linear plus some Gaussian noise\n",
    "\n",
    "# generate random invertible matrix\n",
    "# this can be done by generating a lower triangular matrix L and \n",
    "# an upper triangular matrix U and setting A = LU\n",
    "L = np.tril(np.random.randn(D, D)) \n",
    "U = np.triu(np.random.randn(D, D))\n",
    "A = L @ U\n",
    "\n",
    "# generate Bob's features using his invertible matrix\n",
    "phi = X @ A.T # matrix multiplication is the other way around since the rows of X contain our input data points\n",
    "\n",
    "# add column of 1s to feature matrices so that least squares fit uses a bias\n",
    "X = np.hstack((X, np.ones((N, 1))))\n",
    "phi = np.hstack((phi, np.ones((N, 1))))\n",
    "\n",
    "# fit \n",
    "alice_fit = np.linalg.lstsq(X, y, rcond=None)\n",
    "bob_fit = np.linalg.lstsq(phi, y, rcond=None)\n",
    "\n",
    "\n",
    "# get weights and biases from fit\n",
    "alice_weight = alice_fit[0][:2]\n",
    "alice_bias = alice_fit[0][-1]\n",
    "bob_weight = bob_fit[0][:2]\n",
    "bob_transformed_weight = A.T @ bob_weight\n",
    "bob_bias = bob_fit[0][-1]\n",
    "\n",
    "# check everything is as it should be \n",
    "print(\"True weight is: {:}, true bias is: {:}\".format(true_w, true_b))\n",
    "print(\"Alice weight is {:}, Alice bias is {:}\".format(alice_weight, alice_bias))\n",
    "print(\"Bob transformed weight is {:}, Bob bias is {:}\".format(bob_transformed_weight, bob_bias))\n",
    "\n",
    "assert np.allclose(bob_transformed_weight, alice_weight) and np.allclose(bob_bias, alice_bias)"
   ]
  },
  {
   "cell_type": "markdown",
   "metadata": {},
   "source": [
    "# Q2"
   ]
  },
  {
   "cell_type": "code",
   "execution_count": 165,
   "metadata": {},
   "outputs": [
    {
     "data": {
      "text/plain": [
       "array([[-5.        , -5.        , -5.        , ..., -5.        ,\n",
       "        -5.        , -5.        ],\n",
       "       [-4.79591837, -4.79591837, -4.79591837, ..., -4.79591837,\n",
       "        -4.79591837, -4.79591837],\n",
       "       [-4.59183673, -4.59183673, -4.59183673, ..., -4.59183673,\n",
       "        -4.59183673, -4.59183673],\n",
       "       ...,\n",
       "       [ 4.59183673,  4.59183673,  4.59183673, ...,  4.59183673,\n",
       "         4.59183673,  4.59183673],\n",
       "       [ 4.79591837,  4.79591837,  4.79591837, ...,  4.79591837,\n",
       "         4.79591837,  4.79591837],\n",
       "       [ 5.        ,  5.        ,  5.        , ...,  5.        ,\n",
       "         5.        ,  5.        ]])"
      ]
     },
     "execution_count": 165,
     "metadata": {},
     "output_type": "execute_result"
    }
   ],
   "source": [
    "v = np.array([1, 2])\n",
    "b = 5\n",
    "\n",
    "def sigmoid(a):\n",
    "    return 1 / (1 + np.exp(-a))\n",
    "\n",
    "def phi(x):\n",
    "    return sigmoid(v @ x + b)\n",
    "\n",
    "x, y = np.meshgrid(np.linspace(-5, 5), np.linspace(-5, 5))\n"
   ]
  },
  {
   "cell_type": "markdown",
   "metadata": {},
   "source": [
    "# Q3"
   ]
  },
  {
   "cell_type": "code",
   "execution_count": null,
   "metadata": {},
   "outputs": [],
   "source": []
  },
  {
   "cell_type": "code",
   "execution_count": null,
   "metadata": {},
   "outputs": [],
   "source": []
  },
  {
   "cell_type": "code",
   "execution_count": null,
   "metadata": {},
   "outputs": [],
   "source": []
  },
  {
   "cell_type": "code",
   "execution_count": null,
   "metadata": {},
   "outputs": [],
   "source": []
  },
  {
   "cell_type": "code",
   "execution_count": null,
   "metadata": {},
   "outputs": [],
   "source": []
  },
  {
   "cell_type": "code",
   "execution_count": null,
   "metadata": {},
   "outputs": [],
   "source": []
  },
  {
   "cell_type": "code",
   "execution_count": null,
   "metadata": {},
   "outputs": [],
   "source": []
  },
  {
   "cell_type": "code",
   "execution_count": null,
   "metadata": {},
   "outputs": [],
   "source": []
  },
  {
   "cell_type": "code",
   "execution_count": null,
   "metadata": {},
   "outputs": [],
   "source": []
  },
  {
   "cell_type": "code",
   "execution_count": null,
   "metadata": {},
   "outputs": [],
   "source": []
  },
  {
   "cell_type": "code",
   "execution_count": null,
   "metadata": {},
   "outputs": [],
   "source": []
  },
  {
   "cell_type": "code",
   "execution_count": null,
   "metadata": {},
   "outputs": [],
   "source": []
  },
  {
   "cell_type": "code",
   "execution_count": null,
   "metadata": {},
   "outputs": [],
   "source": []
  },
  {
   "cell_type": "code",
   "execution_count": null,
   "metadata": {},
   "outputs": [],
   "source": []
  },
  {
   "cell_type": "code",
   "execution_count": null,
   "metadata": {},
   "outputs": [],
   "source": []
  },
  {
   "cell_type": "code",
   "execution_count": null,
   "metadata": {},
   "outputs": [],
   "source": []
  },
  {
   "cell_type": "code",
   "execution_count": null,
   "metadata": {},
   "outputs": [],
   "source": []
  },
  {
   "cell_type": "code",
   "execution_count": null,
   "metadata": {},
   "outputs": [],
   "source": []
  },
  {
   "cell_type": "code",
   "execution_count": null,
   "metadata": {},
   "outputs": [],
   "source": []
  },
  {
   "cell_type": "code",
   "execution_count": null,
   "metadata": {},
   "outputs": [],
   "source": []
  },
  {
   "cell_type": "code",
   "execution_count": null,
   "metadata": {},
   "outputs": [],
   "source": []
  },
  {
   "cell_type": "code",
   "execution_count": null,
   "metadata": {},
   "outputs": [],
   "source": []
  },
  {
   "cell_type": "code",
   "execution_count": null,
   "metadata": {},
   "outputs": [],
   "source": []
  },
  {
   "cell_type": "code",
   "execution_count": null,
   "metadata": {},
   "outputs": [],
   "source": []
  },
  {
   "cell_type": "code",
   "execution_count": null,
   "metadata": {},
   "outputs": [],
   "source": []
  },
  {
   "cell_type": "code",
   "execution_count": null,
   "metadata": {},
   "outputs": [],
   "source": []
  },
  {
   "cell_type": "code",
   "execution_count": null,
   "metadata": {},
   "outputs": [],
   "source": []
  },
  {
   "cell_type": "code",
   "execution_count": null,
   "metadata": {},
   "outputs": [],
   "source": []
  },
  {
   "cell_type": "code",
   "execution_count": null,
   "metadata": {},
   "outputs": [],
   "source": []
  },
  {
   "cell_type": "code",
   "execution_count": null,
   "metadata": {},
   "outputs": [],
   "source": []
  },
  {
   "cell_type": "code",
   "execution_count": null,
   "metadata": {},
   "outputs": [],
   "source": []
  },
  {
   "cell_type": "code",
   "execution_count": null,
   "metadata": {},
   "outputs": [],
   "source": []
  },
  {
   "cell_type": "code",
   "execution_count": null,
   "metadata": {},
   "outputs": [],
   "source": []
  },
  {
   "cell_type": "code",
   "execution_count": null,
   "metadata": {},
   "outputs": [],
   "source": []
  },
  {
   "cell_type": "code",
   "execution_count": null,
   "metadata": {},
   "outputs": [],
   "source": []
  },
  {
   "cell_type": "code",
   "execution_count": null,
   "metadata": {},
   "outputs": [],
   "source": []
  },
  {
   "cell_type": "code",
   "execution_count": null,
   "metadata": {},
   "outputs": [],
   "source": []
  },
  {
   "cell_type": "code",
   "execution_count": null,
   "metadata": {},
   "outputs": [],
   "source": []
  },
  {
   "cell_type": "code",
   "execution_count": null,
   "metadata": {},
   "outputs": [],
   "source": []
  },
  {
   "cell_type": "code",
   "execution_count": null,
   "metadata": {},
   "outputs": [],
   "source": []
  },
  {
   "cell_type": "code",
   "execution_count": null,
   "metadata": {},
   "outputs": [],
   "source": []
  },
  {
   "cell_type": "code",
   "execution_count": null,
   "metadata": {},
   "outputs": [],
   "source": []
  },
  {
   "cell_type": "code",
   "execution_count": null,
   "metadata": {},
   "outputs": [],
   "source": []
  },
  {
   "cell_type": "code",
   "execution_count": null,
   "metadata": {},
   "outputs": [],
   "source": []
  },
  {
   "cell_type": "code",
   "execution_count": null,
   "metadata": {},
   "outputs": [],
   "source": []
  },
  {
   "cell_type": "code",
   "execution_count": null,
   "metadata": {},
   "outputs": [],
   "source": []
  }
 ],
 "metadata": {
  "kernelspec": {
   "display_name": "Python 3",
   "language": "python",
   "name": "python3"
  },
  "language_info": {
   "codemirror_mode": {
    "name": "ipython",
    "version": 3
   },
   "file_extension": ".py",
   "mimetype": "text/x-python",
   "name": "python",
   "nbconvert_exporter": "python",
   "pygments_lexer": "ipython3",
   "version": "3.6.6"
  }
 },
 "nbformat": 4,
 "nbformat_minor": 2
}
